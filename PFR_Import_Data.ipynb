{
 "cells": [
  {
   "cell_type": "code",
   "execution_count": 30,
   "metadata": {},
   "outputs": [],
   "source": [
    "import time\n",
    "from selenium import webdriver\n",
    "from selenium.webdriver.common.by import By\n",
    "import pandas as pd\n",
    "import os\n",
    "import glob\n",
    "import shutil"
   ]
  },
  {
   "cell_type": "markdown",
   "metadata": {},
   "source": [
    "Inicializando"
   ]
  },
  {
   "cell_type": "code",
   "execution_count": 31,
   "metadata": {},
   "outputs": [],
   "source": [
    "year = 2023\n",
    "\n",
    "# TODO: aprimorar a estrutura do dicionário para reutilização\n",
    "# Lista de Times\n",
    "teams = {'buf': 'BUF', 'mia': 'MIA', 'nwe': 'NWE', 'nyj': 'NYJ',\n",
    "'pit': 'PIT', 'rav': 'BAL', 'cin': 'CIN', 'cle': 'CLE',\n",
    "'htx': 'HOU', 'clt': 'IND', 'oti': 'TEN', 'jax': 'JAX', \n",
    "'kan': 'KAN', 'sdg': 'LAC', 'den': 'DEN', 'rai': 'LVR',\n",
    "'phi': 'PHI', 'was': 'WAS', 'dal': 'DAL', 'nyg': 'NYG',\n",
    "'det': 'DET', 'min': 'MIN', 'gnb': 'GNB', 'chi': 'CHI',\n",
    "'atl': 'ATL', 'tam': 'TAM', 'nor': 'NOR', 'car': 'CAR',\n",
    "'crd': 'ARI', 'ram': 'LAR', 'sea': 'SEA', 'sfo': 'SFO'}\n",
    "\n",
    "SEASON = f\"data/raw/{year}\"\n",
    "AWARDS = f\"data/raw/{year}/Awards\"\n",
    "ROSTERS = f\"data/raw/{year}/Rosters\"\n",
    "STATS_PLAYER = f\"data/raw/{year}/Stats/Player\"\n",
    "STATS_TEAM = f\"data/raw/{year}/Stats/Team\"\n",
    "\n",
    "URL_ROSTER = 'https://www.pro-football-reference.com/teams/{}/{}_roster.htm'\n",
    "\n",
    "URL_TEAM_OFFENSE = f\"https://www.pro-football-reference.com/years/{year}/\"\n",
    "URL_TEAM_DEFENSE = f\"https://www.pro-football-reference.com/years/{year}/opp.htm\"\n",
    "\n",
    "URL_PASSING = f\"https://www.pro-football-reference.com/years/{year}/passing.htm\"\n",
    "URL_RUSHING = f\"https://www.pro-football-reference.com/years/{year}/rushing.htm\"\n",
    "URL_RECEIVING = f\"https://www.pro-football-reference.com/years/{year}/receiving.htm\"\n",
    "URL_DEFENSE = f\"https://www.pro-football-reference.com/years/{year}/defense.htm\"\n",
    "URL_KICKING = f\"https://www.pro-football-reference.com/years/{year}/kicking.htm\"\n",
    "URL_PUNTING = f\"https://www.pro-football-reference.com/years/{year}/punting.htm\"\n",
    "URL_RETURNS = f\"https://www.pro-football-reference.com/years/{year}/returns.htm\"\n",
    "\n",
    "URL_DRAFT = f\"https://www.pro-football-reference.com/years/{year}/draft.htm\"\n",
    "\n",
    "URL_ALL_PRO = f\"https://www.pro-football-reference.com/years/{year}/allpro.htm\"\n",
    "URL_PRO_BOWL = f\"https://www.pro-football-reference.com/years/{year}/probowl.htm\"\n",
    "\n",
    "URL_COACHES = f\"https://www.pro-football-reference.com/years/{year}/coaches.htm\"\n",
    "URL_SCHEDULES = f\"https://www.pro-football-reference.com/years/{year}/games.htm\"\n",
    "\n",
    "folders = [\n",
    "    AWARDS,\n",
    "    ROSTERS,\n",
    "    STATS_PLAYER,\n",
    "    STATS_TEAM,\n",
    "]"
   ]
  },
  {
   "cell_type": "markdown",
   "metadata": {},
   "source": [
    "Funções"
   ]
  },
  {
   "cell_type": "code",
   "execution_count": 32,
   "metadata": {},
   "outputs": [],
   "source": [
    "# ------------------------------------------------------------------------------------------------\n",
    "def scraping_data(url, attrs, file, is_data_append_csv = False, is_append_team = False):\n",
    "    driver = webdriver.Chrome()\n",
    "    url = url\n",
    "    driver.get(url)\n",
    "    time.sleep(2)\n",
    "\n",
    "    # Lista para armazenar os dados\n",
    "    lista = []\n",
    "\n",
    "    rows = driver.find_elements(By.XPATH, f'//*[contains(@id,\"{attrs}\")]//tr[not(contains(@class, \"over_header\"))]')\n",
    "\n",
    "    # Iterar pelas linhas da tabela\n",
    "\n",
    "    for row in rows:\n",
    "        # Capturar os dados da linha\n",
    "        data = [item.text for item in row.find_elements(By.XPATH, \".//*[self::td or self::th]\")]\n",
    "        \n",
    "        # Capturar o link (se existir) do jogador\n",
    "        if is_data_append_csv:\n",
    "            # data-append-csv\n",
    "            append_csv = row.find_elements(By.XPATH, \".//td[@data-append-csv]\")\n",
    "            player_id = append_csv[0].get_dom_attribute('data-append-csv') if append_csv else \"\"\n",
    "        \n",
    "        # Adicionar o identificador ao final da linha de dados\n",
    "        if data:  # Evitar adicionar linhas vazias\n",
    "            if is_data_append_csv:\n",
    "                if len(lista) == 0:\n",
    "                    data.append('Player-additional')\n",
    "                else:\n",
    "                    data.append(player_id)\n",
    "\n",
    "            lista.append(data)\n",
    "\n",
    "    # Converter os dados para um DataFrame\n",
    "    df = pd.DataFrame(lista)\n",
    "    \n",
    "    df.columns = df.iloc[0]  # Define a segunda linha como cabeçalho\n",
    "    df = df[1:]  # Exclui as duas primeiras linhas\n",
    "    df = df.reset_index(drop=True)  # Reseta o índice\n",
    "\n",
    "    if is_append_team:\n",
    "        df[\"Team\"] = file\n",
    "        \n",
    "    df = df.drop_duplicates()\n",
    "\n",
    "    # Salvar como CSV\n",
    "    df.to_csv(f'{file}.csv', index=False)\n",
    "\n",
    "    driver.quit()\n",
    "\n",
    "# ------------------------------------------------------------------------------------------------\n",
    "def move_files(destination):\n",
    "    files = glob.glob(\"*.csv\")\n",
    "\n",
    "    for file in files:\n",
    "        if os.path.exists(file):\n",
    "            shutil.move(file, destination)\n",
    "\n",
    "# ------------------------------------------------------------------------------------------------\n",
    "def concat_dfs():\n",
    "    files = glob.glob(\"*.csv\")\n",
    "    dfs = []\n",
    "\n",
    "    for file in files:\n",
    "        df = pd.read_csv(file)\n",
    "        dfs.append(df)\n",
    "        \n",
    "    df_new = pd.concat(dfs,ignore_index=True)\n",
    "    df_new.to_csv(\"rosters.csv\", index=False)\n",
    "\n",
    "    shutil.move('rosters.csv', SEASON)\n",
    "\n",
    "    move_files(ROSTERS)\n",
    "    \n",
    "# ------------------------------------------------------------------------------------------------\n",
    "def recreate_folders():\n",
    "    for folder in folders:\n",
    "        if os.path.exists(folder):\n",
    "            shutil.rmtree(folder)\n",
    "        os.makedirs(folder, exist_ok=True)\n"
   ]
  },
  {
   "cell_type": "markdown",
   "metadata": {},
   "source": [
    "Scraping de Roster"
   ]
  },
  {
   "cell_type": "code",
   "execution_count": 33,
   "metadata": {},
   "outputs": [],
   "source": [
    "recreate_folders()"
   ]
  },
  {
   "cell_type": "code",
   "execution_count": 34,
   "metadata": {},
   "outputs": [],
   "source": [
    "\n",
    "for key, value in teams.items():\n",
    "    url = URL_ROSTER.format(key, year)\n",
    "    scraping_data(url,attrs='roster', is_data_append_csv=True, file=value, is_append_team=True)\n",
    "\n",
    "concat_dfs()"
   ]
  },
  {
   "cell_type": "markdown",
   "metadata": {},
   "source": [
    "Team Stats (Offense)"
   ]
  },
  {
   "cell_type": "code",
   "execution_count": 35,
   "metadata": {},
   "outputs": [],
   "source": [
    "\n",
    "scraping_data(URL_TEAM_OFFENSE,'team_stats', 'offense')\n",
    "scraping_data(URL_TEAM_OFFENSE,'passing', 'passing')\n",
    "scraping_data(URL_TEAM_OFFENSE,'rushing', 'rushing')\n",
    "scraping_data(URL_TEAM_OFFENSE,'returns', 'returns')\n",
    "scraping_data(URL_TEAM_OFFENSE,'kicking', 'kicking')\n",
    "scraping_data(URL_TEAM_OFFENSE,'punting', 'punting')\n",
    "scraping_data(URL_TEAM_OFFENSE,'drives', 'off_drives')\n",
    "\n",
    "move_files(STATS_TEAM)\n"
   ]
  },
  {
   "cell_type": "markdown",
   "metadata": {},
   "source": [
    "Team Stats (Defense)"
   ]
  },
  {
   "cell_type": "code",
   "execution_count": 36,
   "metadata": {},
   "outputs": [],
   "source": [
    "\n",
    "scraping_data(URL_TEAM_DEFENSE,'team_stats', 'defense')\n",
    "scraping_data(URL_TEAM_DEFENSE,'drives', 'def_drives')\n",
    "\n",
    "move_files(STATS_TEAM)"
   ]
  },
  {
   "cell_type": "markdown",
   "metadata": {},
   "source": [
    "Player Stats"
   ]
  },
  {
   "cell_type": "code",
   "execution_count": 37,
   "metadata": {},
   "outputs": [],
   "source": [
    "scraping_data(URL_PASSING, 'passing', 'passing', is_data_append_csv=True)\n",
    "scraping_data(URL_RUSHING, 'rushing', 'rushing', is_data_append_csv=True)\n",
    "scraping_data(URL_RECEIVING, 'receiving', 'receiving', is_data_append_csv=True)\n",
    "scraping_data(URL_DEFENSE, 'defense', 'defense', is_data_append_csv=True)\n",
    "scraping_data(URL_KICKING, 'kicking', 'kicking', is_data_append_csv=True)\n",
    "scraping_data(URL_PUNTING, 'punting', 'punting', is_data_append_csv=True)\n",
    "scraping_data(URL_RETURNS, 'returns', 'returns', is_data_append_csv=True)\n",
    "\n",
    "move_files(STATS_PLAYER)"
   ]
  },
  {
   "cell_type": "markdown",
   "metadata": {},
   "source": [
    "Drafts"
   ]
  },
  {
   "cell_type": "code",
   "execution_count": 38,
   "metadata": {},
   "outputs": [],
   "source": [
    "scraping_data(URL_DRAFT, 'drafts', 'draft', is_data_append_csv=True)\n",
    "\n",
    "move_files(SEASON)"
   ]
  },
  {
   "cell_type": "markdown",
   "metadata": {},
   "source": [
    "Awards"
   ]
  },
  {
   "cell_type": "code",
   "execution_count": 39,
   "metadata": {},
   "outputs": [],
   "source": [
    "scraping_data(URL_ALL_PRO, 'all_pro', 'AP', is_data_append_csv=True)\n",
    "scraping_data(URL_PRO_BOWL, 'pro_bowl', 'PB', is_data_append_csv=True)\n",
    "\n",
    "move_files(AWARDS)"
   ]
  },
  {
   "cell_type": "markdown",
   "metadata": {},
   "source": [
    "Coaches"
   ]
  },
  {
   "cell_type": "code",
   "execution_count": 40,
   "metadata": {},
   "outputs": [],
   "source": [
    "scraping_data(URL_COACHES, 'coaches', 'coaches')\n",
    "\n",
    "move_files(SEASON)"
   ]
  },
  {
   "cell_type": "markdown",
   "metadata": {},
   "source": [
    "Schedules"
   ]
  },
  {
   "cell_type": "code",
   "execution_count": 41,
   "metadata": {},
   "outputs": [],
   "source": [
    "scraping_data(URL_SCHEDULES, 'games', 'games')\n",
    "\n",
    "move_files(SEASON)"
   ]
  }
 ],
 "metadata": {
  "kernelspec": {
   "display_name": "base",
   "language": "python",
   "name": "python3"
  },
  "language_info": {
   "codemirror_mode": {
    "name": "ipython",
    "version": 3
   },
   "file_extension": ".py",
   "mimetype": "text/x-python",
   "name": "python",
   "nbconvert_exporter": "python",
   "pygments_lexer": "ipython3",
   "version": "3.12.7"
  }
 },
 "nbformat": 4,
 "nbformat_minor": 2
}
